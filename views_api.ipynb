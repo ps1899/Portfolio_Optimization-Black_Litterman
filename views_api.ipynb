{
 "cells": [
  {
   "cell_type": "code",
   "execution_count": 15,
   "metadata": {},
   "outputs": [],
   "source": [
    "import requests \n",
    "import json"
   ]
  },
  {
   "cell_type": "code",
   "execution_count": 18,
   "metadata": {},
   "outputs": [
    {
     "name": "stdout",
     "output_type": "stream",
     "text": [
      "{'revisions': {}, 'estimates': {'146': {'target_price_low': {'0': [{'effectivedate': '2023-05-09T04:10:06.000-04:00', 'dataitemvalue': '116.0'}, {'effectivedate': '2023-05-09T00:00:00.000-04:00', 'dataitemvalue': '116.0'}, {'effectivedate': '2023-05-07T22:56:13.000-04:00', 'dataitemvalue': '116.0'}, {'effectivedate': '2023-05-05T10:54:18.000-04:00', 'dataitemvalue': '116.0'}, {'effectivedate': '2023-05-05T10:11:54.000-04:00', 'dataitemvalue': '116.0'}, {'effectivedate': '2023-05-05T09:39:25.000-04:00', 'dataitemvalue': '116.0'}, {'effectivedate': '2023-05-05T07:56:44.000-04:00', 'dataitemvalue': '116.0'}, {'effectivedate': '2023-05-05T07:31:13.000-04:00', 'dataitemvalue': '116.0'}, {'effectivedate': '2023-05-05T04:50:04.000-04:00', 'dataitemvalue': '116.0'}, {'effectivedate': '2023-05-05T04:35:00.000-04:00', 'dataitemvalue': '116.0'}, {'effectivedate': '2023-05-05T04:25:40.000-04:00', 'dataitemvalue': '116.0'}, {'effectivedate': '2023-05-05T04:12:00.000-04:00', 'dataitemvalue': '116.0'}, {'effectivedate': '2023-05-05T03:54:29.000-04:00', 'dataitemvalue': '116.0'}, {'effectivedate': '2023-05-05T03:41:20.000-04:00', 'dataitemvalue': '116.0'}, {'effectivedate': '2023-05-05T03:27:05.000-04:00', 'dataitemvalue': '116.0'}, {'effectivedate': '2023-05-05T03:16:29.000-04:00', 'dataitemvalue': '116.0'}, {'effectivedate': '2023-05-05T02:26:46.000-04:00', 'dataitemvalue': '116.0'}, {'effectivedate': '2023-05-05T02:06:48.000-04:00', 'dataitemvalue': '116.0'}, {'effectivedate': '2023-05-05T01:03:31.000-04:00', 'dataitemvalue': '116.0'}, {'effectivedate': '2023-05-04T21:18:32.000-04:00', 'dataitemvalue': '116.0'}, {'effectivedate': '2023-05-02T05:12:06.000-04:00', 'dataitemvalue': '116.0'}, {'effectivedate': '2023-05-01T04:50:54.000-04:00', 'dataitemvalue': '116.0'}, {'effectivedate': '2023-04-26T05:00:22.000-04:00', 'dataitemvalue': '116.0'}, {'effectivedate': '2023-04-25T22:31:29.000-04:00', 'dataitemvalue': '116.0'}, {'effectivedate': '2023-04-24T04:35:00.000-04:00', 'dataitemvalue': '116.0'}, {'effectivedate': '2023-04-19T04:16:48.000-04:00', 'dataitemvalue': '116.0'}, {'effectivedate': '2023-04-13T08:00:44.000-04:00', 'dataitemvalue': '116.0'}, {'effectivedate': '2023-04-12T21:19:21.000-04:00', 'dataitemvalue': '116.0'}, {'effectivedate': '2023-04-10T16:37:43.000-04:00', 'dataitemvalue': '116.0'}]}, 'target_price_high': {'0': [{'effectivedate': '2023-05-09T04:10:06.000-04:00', 'dataitemvalue': '210.0'}, {'effectivedate': '2023-05-09T00:00:00.000-04:00', 'dataitemvalue': '210.0'}, {'effectivedate': '2023-05-07T22:56:13.000-04:00', 'dataitemvalue': '210.0'}, {'effectivedate': '2023-05-05T10:54:18.000-04:00', 'dataitemvalue': '210.0'}, {'effectivedate': '2023-05-05T10:11:54.000-04:00', 'dataitemvalue': '210.0'}, {'effectivedate': '2023-05-05T09:39:25.000-04:00', 'dataitemvalue': '210.0'}, {'effectivedate': '2023-05-05T07:56:44.000-04:00', 'dataitemvalue': '210.0'}, {'effectivedate': '2023-05-05T07:31:13.000-04:00', 'dataitemvalue': '210.0'}, {'effectivedate': '2023-05-05T04:50:04.000-04:00', 'dataitemvalue': '210.0'}, {'effectivedate': '2023-05-05T04:35:00.000-04:00', 'dataitemvalue': '210.0'}, {'effectivedate': '2023-05-05T04:25:40.000-04:00', 'dataitemvalue': '210.0'}, {'effectivedate': '2023-05-05T04:12:00.000-04:00', 'dataitemvalue': '210.0'}, {'effectivedate': '2023-05-05T03:54:29.000-04:00', 'dataitemvalue': '210.0'}, {'effectivedate': '2023-05-05T03:41:20.000-04:00', 'dataitemvalue': '210.0'}, {'effectivedate': '2023-05-05T03:27:05.000-04:00', 'dataitemvalue': '210.0'}, {'effectivedate': '2023-05-05T03:16:29.000-04:00', 'dataitemvalue': '210.0'}, {'effectivedate': '2023-05-05T02:26:46.000-04:00', 'dataitemvalue': '210.0'}, {'effectivedate': '2023-05-05T02:06:48.000-04:00', 'dataitemvalue': '210.0'}, {'effectivedate': '2023-05-05T01:03:31.000-04:00', 'dataitemvalue': '210.0'}, {'effectivedate': '2023-05-04T21:18:32.000-04:00', 'dataitemvalue': '210.0'}, {'effectivedate': '2023-05-02T05:12:06.000-04:00', 'dataitemvalue': '210.0'}, {'effectivedate': '2023-05-01T04:50:54.000-04:00', 'dataitemvalue': '210.0'}, {'effectivedate': '2023-04-26T05:00:22.000-04:00', 'dataitemvalue': '210.0'}, {'effectivedate': '2023-04-25T22:31:29.000-04:00', 'dataitemvalue': '210.0'}, {'effectivedate': '2023-04-24T04:35:00.000-04:00', 'dataitemvalue': '210.0'}, {'effectivedate': '2023-04-19T04:16:48.000-04:00', 'dataitemvalue': '210.0'}, {'effectivedate': '2023-04-13T08:00:44.000-04:00', 'dataitemvalue': '210.0'}, {'effectivedate': '2023-04-12T21:19:21.000-04:00', 'dataitemvalue': '210.0'}, {'effectivedate': '2023-04-10T16:37:43.000-04:00', 'dataitemvalue': '210.0'}]}, 'target_price': {'0': [{'effectivedate': '2023-05-09T04:10:06.000-04:00', 'dataitemvalue': '176.57619'}, {'effectivedate': '2023-05-09T00:00:00.000-04:00', 'dataitemvalue': '176.24286'}, {'effectivedate': '2023-05-07T22:56:13.000-04:00', 'dataitemvalue': '175.90952'}, {'effectivedate': '2023-05-05T10:54:18.000-04:00', 'dataitemvalue': '175.98095'}, {'effectivedate': '2023-05-05T10:11:54.000-04:00', 'dataitemvalue': '175.38571'}, {'effectivedate': '2023-05-05T09:39:25.000-04:00', 'dataitemvalue': '174.90952'}, {'effectivedate': '2023-05-05T07:56:44.000-04:00', 'dataitemvalue': '174.31429'}, {'effectivedate': '2023-05-05T07:31:13.000-04:00', 'dataitemvalue': '173.8381'}, {'effectivedate': '2023-05-05T04:50:04.000-04:00', 'dataitemvalue': '173.24286'}, {'effectivedate': '2023-05-05T04:35:00.000-04:00', 'dataitemvalue': '172.55238'}, {'effectivedate': '2023-05-05T04:25:40.000-04:00', 'dataitemvalue': '172.3381'}, {'effectivedate': '2023-05-05T04:12:00.000-04:00', 'dataitemvalue': '172.1'}, {'effectivedate': '2023-05-05T03:54:29.000-04:00', 'dataitemvalue': '171.98095'}, {'effectivedate': '2023-05-05T03:41:20.000-04:00', 'dataitemvalue': '171.71905'}, {'effectivedate': '2023-05-05T03:27:05.000-04:00', 'dataitemvalue': '171.48095'}, {'effectivedate': '2023-05-05T03:16:29.000-04:00', 'dataitemvalue': '171.40952'}, {'effectivedate': '2023-05-05T02:26:46.000-04:00', 'dataitemvalue': '171.29048'}, {'effectivedate': '2023-05-05T02:06:48.000-04:00', 'dataitemvalue': '171.21905'}, {'effectivedate': '2023-05-05T01:03:31.000-04:00', 'dataitemvalue': '171.57619'}, {'effectivedate': '2023-05-04T21:18:32.000-04:00', 'dataitemvalue': '171.05366'}, {'effectivedate': '2023-05-02T05:12:06.000-04:00', 'dataitemvalue': '171.1'}, {'effectivedate': '2023-05-01T04:50:54.000-04:00', 'dataitemvalue': '170.8619'}, {'effectivedate': '2023-04-26T05:00:22.000-04:00', 'dataitemvalue': '170.74286'}, {'effectivedate': '2023-04-25T22:31:29.000-04:00', 'dataitemvalue': '170.64762'}, {'effectivedate': '2023-04-24T04:35:00.000-04:00', 'dataitemvalue': '170.40952'}, {'effectivedate': '2023-04-19T04:16:48.000-04:00', 'dataitemvalue': '170.38571'}, {'effectivedate': '2023-04-13T08:00:44.000-04:00', 'dataitemvalue': '170.02857'}, {'effectivedate': '2023-04-12T21:19:21.000-04:00', 'dataitemvalue': '169.93333'}, {'effectivedate': '2023-04-10T16:37:43.000-04:00', 'dataitemvalue': '169.69524'}]}}}}\n"
     ]
    }
   ],
   "source": [
    "\n",
    "url = \"https://seeking-alpha.p.rapidapi.com/symbols/get-analyst-price-target\"\n",
    "\n",
    "querystring = {\"ticker_ids\":\"AAPL\",\"return_window\":\"1\",\"group_by_month\":\"false\"}\n",
    "\n",
    "headers = {\n",
    "\t\"X-RapidAPI-Key\": \"a99a2f2ea6msh2f35ead8a1a9533p1bdb99jsnf43d4d3d2dd1\",\n",
    "\t\"X-RapidAPI-Host\": \"seeking-alpha.p.rapidapi.com\"\n",
    "}\n",
    "\n",
    "response = requests.get(url, headers=headers, params=querystring)\n",
    "\n",
    "print(response.json())\n",
    "\n",
    "with open(\"response.txt\", \"w\") as f:\n",
    "    f.write(response.text)"
   ]
  },
  {
   "cell_type": "code",
   "execution_count": 19,
   "metadata": {},
   "outputs": [],
   "source": [
    "\n",
    "url = \"https://seeking-alpha.p.rapidapi.com/symbols/get-estimates\"\n",
    "\n",
    "querystring = {\"symbol\":\"aapl\",\"data_type\":\"revenues\",\"period_type\":\"quarterly\"}\n",
    "\n",
    "headers = {\n",
    "\t\"X-RapidAPI-Key\": \"a99a2f2ea6msh2f35ead8a1a9533p1bdb99jsnf43d4d3d2dd1\",\n",
    "\t\"X-RapidAPI-Host\": \"seeking-alpha.p.rapidapi.com\"\n",
    "}\n",
    "\n",
    "response = requests.get(url, headers=headers, params=querystring)\n",
    "\n",
    "with open(\"aapl.json\", \"w\") as f:\n",
    "    f.write(response.text)"
   ]
  },
  {
   "cell_type": "code",
   "execution_count": 21,
   "metadata": {},
   "outputs": [],
   "source": [
    "\n",
    "url = \"https://seeking-alpha.p.rapidapi.com/analysis/v2/list\"\n",
    "\n",
    "querystring = {\"id\":\"djia\",\"size\":\"20\",\"number\":\"1\"}\n",
    "\n",
    "headers = {\n",
    "\t\"X-RapidAPI-Key\": \"a99a2f2ea6msh2f35ead8a1a9533p1bdb99jsnf43d4d3d2dd1\",\n",
    "\t\"X-RapidAPI-Host\": \"seeking-alpha.p.rapidapi.com\"\n",
    "}\n",
    "\n",
    "response = requests.get(url, headers=headers, params=querystring)\n",
    "\n",
    "with open(\"djia.json\", \"w\") as f:\n",
    "    f.write(response.text)"
   ]
  },
  {
   "cell_type": "code",
   "execution_count": 25,
   "metadata": {},
   "outputs": [
    {
     "ename": "AttributeError",
     "evalue": "'Ticker' object has no attribute 'get_analysis'",
     "output_type": "error",
     "traceback": [
      "\u001b[0;31m---------------------------------------------------------------------------\u001b[0m",
      "\u001b[0;31mAttributeError\u001b[0m                            Traceback (most recent call last)",
      "Cell \u001b[0;32mIn[25], line 6\u001b[0m\n\u001b[1;32m      3\u001b[0m apple \u001b[39m=\u001b[39m yf\u001b[39m.\u001b[39mTicker(\u001b[39m'\u001b[39m\u001b[39mAAPL\u001b[39m\u001b[39m'\u001b[39m)\n\u001b[1;32m      5\u001b[0m \u001b[39mdir\u001b[39m(apple)\n\u001b[0;32m----> 6\u001b[0m analysis \u001b[39m=\u001b[39m apple\u001b[39m.\u001b[39;49mget_analysis\n",
      "\u001b[0;31mAttributeError\u001b[0m: 'Ticker' object has no attribute 'get_analysis'"
     ]
    }
   ],
   "source": [
    "import yfinance as yf\n",
    "\n",
    "apple = yf.Ticker('AAPL')\n",
    "\n",
    "dir(apple)\n",
    "analysis = apple.get_analysis"
   ]
  },
  {
   "cell_type": "code",
   "execution_count": 24,
   "metadata": {},
   "outputs": [
    {
     "ename": "Exception",
     "evalue": "yfinance failed to decrypt Yahoo data response",
     "output_type": "error",
     "traceback": [
      "\u001b[0;31m---------------------------------------------------------------------------\u001b[0m",
      "\u001b[0;31mException\u001b[0m                                 Traceback (most recent call last)",
      "Cell \u001b[0;32mIn[24], line 1\u001b[0m\n\u001b[0;32m----> 1\u001b[0m recommendations \u001b[39m=\u001b[39m apple\u001b[39m.\u001b[39;49mget_recommendations()\n",
      "File \u001b[0;32m~/opt/anaconda3/envs/tf/lib/python3.10/site-packages/yfinance/base.py:983\u001b[0m, in \u001b[0;36mTickerBase.get_recommendations\u001b[0;34m(self, proxy, as_dict)\u001b[0m\n\u001b[1;32m    981\u001b[0m \u001b[39mdef\u001b[39;00m \u001b[39mget_recommendations\u001b[39m(\u001b[39mself\u001b[39m, proxy\u001b[39m=\u001b[39m\u001b[39mNone\u001b[39;00m, as_dict\u001b[39m=\u001b[39m\u001b[39mFalse\u001b[39;00m):\n\u001b[1;32m    982\u001b[0m     \u001b[39mself\u001b[39m\u001b[39m.\u001b[39m_quote\u001b[39m.\u001b[39mproxy \u001b[39m=\u001b[39m proxy\n\u001b[0;32m--> 983\u001b[0m     data \u001b[39m=\u001b[39m \u001b[39mself\u001b[39;49m\u001b[39m.\u001b[39;49m_quote\u001b[39m.\u001b[39;49mrecommendations\n\u001b[1;32m    984\u001b[0m     \u001b[39mif\u001b[39;00m as_dict:\n\u001b[1;32m    985\u001b[0m         \u001b[39mreturn\u001b[39;00m data\u001b[39m.\u001b[39mto_dict()\n",
      "File \u001b[0;32m~/opt/anaconda3/envs/tf/lib/python3.10/site-packages/yfinance/scrapers/quote.py:570\u001b[0m, in \u001b[0;36mQuote.recommendations\u001b[0;34m(self)\u001b[0m\n\u001b[1;32m    567\u001b[0m \u001b[39m@property\u001b[39m\n\u001b[1;32m    568\u001b[0m \u001b[39mdef\u001b[39;00m \u001b[39mrecommendations\u001b[39m(\u001b[39mself\u001b[39m) \u001b[39m-\u001b[39m\u001b[39m>\u001b[39m pd\u001b[39m.\u001b[39mDataFrame:\n\u001b[1;32m    569\u001b[0m     \u001b[39mif\u001b[39;00m \u001b[39mself\u001b[39m\u001b[39m.\u001b[39m_recommendations \u001b[39mis\u001b[39;00m \u001b[39mNone\u001b[39;00m:\n\u001b[0;32m--> 570\u001b[0m         \u001b[39mself\u001b[39;49m\u001b[39m.\u001b[39;49m_scrape(\u001b[39mself\u001b[39;49m\u001b[39m.\u001b[39;49mproxy)\n\u001b[1;32m    571\u001b[0m     \u001b[39mreturn\u001b[39;00m \u001b[39mself\u001b[39m\u001b[39m.\u001b[39m_recommendations\n",
      "File \u001b[0;32m~/opt/anaconda3/envs/tf/lib/python3.10/site-packages/yfinance/scrapers/quote.py:585\u001b[0m, in \u001b[0;36mQuote._scrape\u001b[0;34m(self, proxy)\u001b[0m\n\u001b[1;32m    582\u001b[0m \u001b[39mself\u001b[39m\u001b[39m.\u001b[39m_already_scraped \u001b[39m=\u001b[39m \u001b[39mTrue\u001b[39;00m\n\u001b[1;32m    584\u001b[0m \u001b[39m# get info and sustainability\u001b[39;00m\n\u001b[0;32m--> 585\u001b[0m json_data \u001b[39m=\u001b[39m \u001b[39mself\u001b[39;49m\u001b[39m.\u001b[39;49m_data\u001b[39m.\u001b[39;49mget_json_data_stores(proxy\u001b[39m=\u001b[39;49mproxy)\n\u001b[1;32m    586\u001b[0m \u001b[39mtry\u001b[39;00m:\n\u001b[1;32m    587\u001b[0m     quote_summary_store \u001b[39m=\u001b[39m json_data[\u001b[39m'\u001b[39m\u001b[39mQuoteSummaryStore\u001b[39m\u001b[39m'\u001b[39m]\n",
      "File \u001b[0;32m~/opt/anaconda3/envs/tf/lib/python3.10/site-packages/yfinance/data.py:43\u001b[0m, in \u001b[0;36mlru_cache_freezeargs.<locals>.wrapped\u001b[0;34m(*args, **kwargs)\u001b[0m\n\u001b[1;32m     41\u001b[0m args \u001b[39m=\u001b[39m \u001b[39mtuple\u001b[39m([\u001b[39mtuple\u001b[39m(arg) \u001b[39mif\u001b[39;00m \u001b[39misinstance\u001b[39m(arg, \u001b[39mlist\u001b[39m) \u001b[39melse\u001b[39;00m arg \u001b[39mfor\u001b[39;00m arg \u001b[39min\u001b[39;00m args])\n\u001b[1;32m     42\u001b[0m kwargs \u001b[39m=\u001b[39m {k: \u001b[39mtuple\u001b[39m(v) \u001b[39mif\u001b[39;00m \u001b[39misinstance\u001b[39m(v, \u001b[39mlist\u001b[39m) \u001b[39melse\u001b[39;00m v \u001b[39mfor\u001b[39;00m k, v \u001b[39min\u001b[39;00m kwargs\u001b[39m.\u001b[39mitems()}\n\u001b[0;32m---> 43\u001b[0m \u001b[39mreturn\u001b[39;00m func(\u001b[39m*\u001b[39;49margs, \u001b[39m*\u001b[39;49m\u001b[39m*\u001b[39;49mkwargs)\n",
      "File \u001b[0;32m~/opt/anaconda3/envs/tf/lib/python3.10/site-packages/yfinance/data.py:318\u001b[0m, in \u001b[0;36mTickerData.get_json_data_stores\u001b[0;34m(self, sub_page, proxy)\u001b[0m\n\u001b[1;32m    315\u001b[0m     keys \u001b[39m+\u001b[39m\u001b[39m=\u001b[39m response_gh\u001b[39m.\u001b[39mtext\u001b[39m.\u001b[39msplitlines()\n\u001b[1;32m    317\u001b[0m \u001b[39m# Decrypt!\u001b[39;00m\n\u001b[0;32m--> 318\u001b[0m stores \u001b[39m=\u001b[39m decrypt_cryptojs_aes_stores(data, keys)\n\u001b[1;32m    319\u001b[0m \u001b[39mif\u001b[39;00m stores \u001b[39mis\u001b[39;00m \u001b[39mNone\u001b[39;00m:\n\u001b[1;32m    320\u001b[0m     \u001b[39m# Maybe Yahoo returned old format, not encrypted\u001b[39;00m\n\u001b[1;32m    321\u001b[0m     \u001b[39mif\u001b[39;00m \u001b[39m\"\u001b[39m\u001b[39mcontext\u001b[39m\u001b[39m\"\u001b[39m \u001b[39min\u001b[39;00m data \u001b[39mand\u001b[39;00m \u001b[39m\"\u001b[39m\u001b[39mdispatcher\u001b[39m\u001b[39m\"\u001b[39m \u001b[39min\u001b[39;00m data[\u001b[39m\"\u001b[39m\u001b[39mcontext\u001b[39m\u001b[39m\"\u001b[39m]:\n",
      "File \u001b[0;32m~/opt/anaconda3/envs/tf/lib/python3.10/site-packages/yfinance/data.py:164\u001b[0m, in \u001b[0;36mdecrypt_cryptojs_aes_stores\u001b[0;34m(data, keys)\u001b[0m\n\u001b[1;32m    162\u001b[0m             \u001b[39mpass\u001b[39;00m\n\u001b[1;32m    163\u001b[0m     \u001b[39mif\u001b[39;00m \u001b[39mnot\u001b[39;00m success:\n\u001b[0;32m--> 164\u001b[0m         \u001b[39mraise\u001b[39;00m \u001b[39mException\u001b[39;00m(\u001b[39m\"\u001b[39m\u001b[39myfinance failed to decrypt Yahoo data response\u001b[39m\u001b[39m\"\u001b[39m)\n\u001b[1;32m    166\u001b[0m decoded_stores \u001b[39m=\u001b[39m json\u001b[39m.\u001b[39mloads(plaintext)\n\u001b[1;32m    167\u001b[0m \u001b[39mreturn\u001b[39;00m decoded_stores\n",
      "\u001b[0;31mException\u001b[0m: yfinance failed to decrypt Yahoo data response"
     ]
    }
   ],
   "source": [
    "recommendations = apple.get_recommendations()"
   ]
  },
  {
   "cell_type": "code",
   "execution_count": 21,
   "metadata": {},
   "outputs": [],
   "source": [
    "recommendations"
   ]
  },
  {
   "cell_type": "code",
   "execution_count": 26,
   "metadata": {},
   "outputs": [],
   "source": [
    "import numpy as np\n",
    "import pandas as pd\n",
    "import matplotlib_inline\n",
    "import matplotlib.pyplot as plt\n",
    "import pylab\n",
    "pylab.rcParams['figure.figsize'] = (10, 6)\n",
    "import scipy.optimize\n",
    "from pandas_datareader import data as web\n",
    "import yfinance as yf\n",
    "from pytickersymbols import PyTickerSymbols\n",
    "from collections import defaultdict\n",
    "from IPython.core.display import HTML\n",
    "import seaborn as sns"
   ]
  },
  {
   "cell_type": "code",
   "execution_count": 27,
   "metadata": {},
   "outputs": [
    {
     "data": {
      "text/plain": [
       "30"
      ]
     },
     "execution_count": 27,
     "metadata": {},
     "output_type": "execute_result"
    }
   ],
   "source": [
    "stock_data = PyTickerSymbols()\n",
    "stocks_list = stock_data.get_dow_jones_nyc_yahoo_tickers()\n",
    "stocks_list.remove('DOW')\n",
    "len(stocks_list)"
   ]
  },
  {
   "cell_type": "code",
   "execution_count": null,
   "metadata": {},
   "outputs": [],
   "source": [
    "import statistics\n",
    "\n",
    "tickers = yf.Tickers(stocks_list)\n",
    "market_cap = {}\n",
    "analyst_recommendation_detailed = []\n",
    "analyst_recommendation = []\n",
    "\n",
    "for t in stocks_list:\n",
    "    stock = yf.Ticker(t)\n",
    "    market_cap[t] = tickers.tickers[str].info['marketCap']\n",
    "    analyst_recommendation_detailed[t] = tickers.tickers[str].get_recommendations()['To Grade']\n",
    "    analyst_recommendation[t] = statistics.mode(analyst_recommendation_detailed[t])\n",
    "\n",
    "print('Market Cap Data: ')\n",
    "print(market_cap)\n",
    "print('Analyst Recommendations: ')\n",
    "print(analyst_recommendation)\n",
    "\n",
    "views = {}\n",
    "market_return = 11.97/100\n",
    "\n",
    "for ticker in tickers:\n",
    "    if(analyst_recommendation[ticker] == 'Buy'):\n",
    "        views[ticker] = market_return * 1.5\n",
    "    elif(analyst_recommendation[ticker] == 'Hold' or analyst_recommendation[ticker] == 'Neutral'):\n",
    "        views[ticker] = market_return * 1.25\n",
    "    elif(analyst_recommendation[ticker] == 'Outperform'):\n",
    "        views[ticker] = market_return * 2\n",
    "    else:\n",
    "        views[ticker] = market_return"
   ]
  }
 ],
 "metadata": {
  "kernelspec": {
   "display_name": "Python 3",
   "language": "python",
   "name": "python3"
  },
  "language_info": {
   "codemirror_mode": {
    "name": "ipython",
    "version": 3
   },
   "file_extension": ".py",
   "mimetype": "text/x-python",
   "name": "python",
   "nbconvert_exporter": "python",
   "pygments_lexer": "ipython3",
   "version": "3.10.9"
  },
  "orig_nbformat": 4
 },
 "nbformat": 4,
 "nbformat_minor": 2
}
